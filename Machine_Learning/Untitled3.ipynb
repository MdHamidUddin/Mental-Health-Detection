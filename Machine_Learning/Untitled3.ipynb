{
 "cells": [
  {
   "cell_type": "code",
   "execution_count": 2,
   "metadata": {},
   "outputs": [
    {
     "ename": "ModuleNotFoundError",
     "evalue": "No module named 'Crypto'",
     "output_type": "error",
     "traceback": [
      "\u001b[1;31m---------------------------------------------------------------------------\u001b[0m",
      "\u001b[1;31mModuleNotFoundError\u001b[0m                       Traceback (most recent call last)",
      "\u001b[1;32m<ipython-input-2-4fb3e3c60899>\u001b[0m in \u001b[0;36m<module>\u001b[1;34m\u001b[0m\n\u001b[0;32m      1\u001b[0m \u001b[1;31m#!/usr/bin/env python3\u001b[0m\u001b[1;33m\u001b[0m\u001b[1;33m\u001b[0m\u001b[1;33m\u001b[0m\u001b[0m\n\u001b[0;32m      2\u001b[0m \u001b[1;33m\u001b[0m\u001b[0m\n\u001b[1;32m----> 3\u001b[1;33m \u001b[1;32mfrom\u001b[0m \u001b[0mCrypto\u001b[0m\u001b[1;33m.\u001b[0m\u001b[0mCipher\u001b[0m \u001b[1;32mimport\u001b[0m \u001b[0mAES\u001b[0m\u001b[1;33m\u001b[0m\u001b[1;33m\u001b[0m\u001b[0m\n\u001b[0m\u001b[0;32m      4\u001b[0m \u001b[1;32mfrom\u001b[0m \u001b[0mCrypto\u001b[0m\u001b[1;33m.\u001b[0m\u001b[0mUtil\u001b[0m\u001b[1;33m.\u001b[0m\u001b[0mPadding\u001b[0m \u001b[1;32mimport\u001b[0m \u001b[0mpad\u001b[0m\u001b[1;33m,\u001b[0m \u001b[0munpad\u001b[0m\u001b[1;33m\u001b[0m\u001b[1;33m\u001b[0m\u001b[0m\n\u001b[0;32m      5\u001b[0m \u001b[1;33m\u001b[0m\u001b[0m\n",
      "\u001b[1;31mModuleNotFoundError\u001b[0m: No module named 'Crypto'"
     ]
    }
   ],
   "source": [
    "#!/usr/bin/env python3                                                                                                      \n",
    "\n",
    "from Crypto.Cipher import AES\n",
    "from Crypto.Util.Padding import pad, unpad\n",
    "\n",
    "# Given IV\n",
    "iv = bytearray.fromhex(\"ffeeddccbbaa00112233445566778899\")\n",
    "# Given Plaintext\n",
    "plainText = \"Welcome to UWE\"\n",
    "# Given Ciphertext (Hex)\n",
    "given_cipher_hex = bytearray.fromhex(\"05e620629887d1cbb6a400a6a01b22fa\")\n",
    "\n",
    "# Load the text file\n",
    "textFile = open(\"WordList.txt\", \"r\")\n",
    "\n",
    "# Loop for brute forcing and length maintaining\n",
    "for key in textFile.read().splitlines():\n",
    "    if len(key) < 16:\n",
    "       key = key.ljust(16, '*')\n",
    "    elif len(key) == 16:\n",
    "       key = key\n",
    "    else:\n",
    "       key = key.ljust(24, '*')\n",
    "\n",
    "    # Encrypt the message\n",
    "    cipher = AES.new(key=bytearray(key, encoding='utf-8'), mode=AES.MODE_CBC, iv=iv)\n",
    "    ciphertext = cipher.encrypt(pad(plainText.encode('utf-8'), AES.block_size))\n",
    "\n",
    "    derived_cipher_hex = ciphertext\n",
    "    if (given_cipher_hex == derived_cipher_hex):\n",
    "        print(\"The key is: \",(key))\n",
    "        break\n",
    "    else:\n",
    "        print(\"Checking: \",(key))\n",
    "        continue"
   ]
  },
  {
   "cell_type": "code",
   "execution_count": null,
   "metadata": {},
   "outputs": [],
   "source": []
  }
 ],
 "metadata": {
  "kernelspec": {
   "display_name": "Python 3",
   "language": "python",
   "name": "python3"
  },
  "language_info": {
   "codemirror_mode": {
    "name": "ipython",
    "version": 3
   },
   "file_extension": ".py",
   "mimetype": "text/x-python",
   "name": "python",
   "nbconvert_exporter": "python",
   "pygments_lexer": "ipython3",
   "version": "3.8.5"
  }
 },
 "nbformat": 4,
 "nbformat_minor": 4
}
